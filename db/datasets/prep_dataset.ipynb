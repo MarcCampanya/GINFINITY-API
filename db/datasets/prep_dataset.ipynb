{
 "cells": [
  {
   "cell_type": "code",
   "execution_count": 35,
   "metadata": {},
   "outputs": [],
   "source": [
    "import pandas as pd\n",
    "\n",
    "file_path = \"lncRNA_exon_data_filtered_70id_600bases_wo_embeddings_filtered.csv\"\n",
    "\n",
    "def is_valid_dot_bracket(structure):\n",
    "    \"\"\"Check if a given dot-bracket notation is valid.\"\"\"\n",
    "    stack = []\n",
    "    for char in structure:\n",
    "        if char == '(':\n",
    "            stack.append(char)\n",
    "        elif char == ')':\n",
    "            if not stack:  # More closing than opening\n",
    "                return False\n",
    "            stack.pop()\n",
    "    return len(stack) == 0  # Stack should be empty if properly balanced\n",
    "\n",
    "# Load the CSV file\n",
    "df = pd.read_csv(file_path)\n",
    "\n",
    "# Check if the column exists\n",
    "if \"rna_ss\" not in df.columns:\n",
    "    raise ValueError(\"Column 'rna_ss' not found in the CSV file.\")\n",
    "\n",
    "# Apply validation\n",
    "df[\"valid_dot_bracket\"] = df[\"rna_ss\"].apply(is_valid_dot_bracket)\n",
    "\n",
    "df = df[df[\"valid_dot_bracket\"]]\n",
    "df = df.drop(columns=[\"valid_dot_bracket\"])\n",
    "\n",
    "df.to_csv(\"validated_lncRNA_exon_data.csv\", index=False)"
   ]
  },
  {
   "cell_type": "code",
   "execution_count": null,
   "metadata": {},
   "outputs": [
    {
     "name": "stderr",
     "output_type": "stream",
     "text": [
      "python: can't open file '/home/nicolas/programs/GINFINITY-API/db/datasets/../external/GINFINITY/predict_embedding.py': [Errno 2] No such file or directory\n"
     ]
    },
    {
     "data": {
      "text/plain": [
       "CompletedProcess(args=['python', '../external/GINFINITY/predict_embedding.py', '--input', 'validated_lncRNA_exon_data.csv', 'output_path', '.--model_id', 'gin_edge_aware_250224', '--model_path', '../models/model_weights.pth', '--structure_column_name', 'rna_ss', '--device', 'cuda', '--num_workers', '10'], returncode=2)"
      ]
     },
     "execution_count": 1,
     "metadata": {},
     "output_type": "execute_result"
    }
   ],
   "source": [
    "import subprocess\n",
    "\n",
    "subprocess.run([\n",
    "    \"python\", \"../../external/GINFINITY/predict_embedding.py\",\n",
    "    \"--input\", \"validated_lncRNA_exon_data.csv\",\n",
    "    \"output_path\", \".\"\n",
    "    \"--model_id\", \"gin_edge_aware_250224\",\n",
    "    \"--model_path\", \"../../models/model_weights.pth\",\n",
    "    \"--structure_column_name\", \"rna_ss\",\n",
    "    \"--device\", \"cuda\",\n",
    "    \"--num_workers\", \"10\"\n",
    "])"
   ]
  },
  {
   "cell_type": "code",
   "execution_count": null,
   "metadata": {},
   "outputs": [],
   "source": []
  }
 ],
 "metadata": {
  "kernelspec": {
   "display_name": "strusi_env",
   "language": "python",
   "name": "python3"
  },
  "language_info": {
   "codemirror_mode": {
    "name": "ipython",
    "version": 3
   },
   "file_extension": ".py",
   "mimetype": "text/x-python",
   "name": "python",
   "nbconvert_exporter": "python",
   "pygments_lexer": "ipython3",
   "version": "3.12.7"
  }
 },
 "nbformat": 4,
 "nbformat_minor": 2
}
